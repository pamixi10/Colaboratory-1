{
  "nbformat": 4,
  "nbformat_minor": 0,
  "metadata": {
    "colab": {
      "name": "colab",
      "provenance": [],
      "collapsed_sections": [],
      "mount_file_id": "107MkZLbT6Mq4W0PGaBo25Y1nEtt4ul57",
      "authorship_tag": "ABX9TyPoM6geD4sXGDeQeviN/DaI",
      "include_colab_link": true
    },
    "kernelspec": {
      "name": "python3",
      "display_name": "Python 3"
    },
    "accelerator": "GPU"
  },
  "cells": [
    {
      "cell_type": "markdown",
      "metadata": {
        "id": "view-in-github",
        "colab_type": "text"
      },
      "source": [
        "<a href=\"https://colab.research.google.com/github/pamixi10/Colaboratory-1/blob/master/colab.ipynb\" target=\"_parent\"><img src=\"https://colab.research.google.com/assets/colab-badge.svg\" alt=\"Open In Colab\"/></a>"
      ]
    },
    {
      "cell_type": "code",
      "metadata": {
        "id": "RbjLJL7quzTb",
        "colab_type": "code",
        "colab": {
          "base_uri": "https://localhost:8080/",
          "height": 34
        },
        "outputId": "f3d21229-5458-4522-8b62-fa513cb9187b"
      },
      "source": [
        "a=122345\n",
        "print(a)"
      ],
      "execution_count": null,
      "outputs": [
        {
          "output_type": "stream",
          "text": [
            "122345\n"
          ],
          "name": "stdout"
        }
      ]
    }
  ]
}